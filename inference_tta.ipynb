{
 "cells": [
  {
   "cell_type": "code",
   "execution_count": 1,
   "metadata": {
    "execution": {
     "iopub.execute_input": "2021-03-11T06:59:40.175230Z",
     "iopub.status.busy": "2021-03-11T06:59:40.174651Z",
     "iopub.status.idle": "2021-03-11T06:59:43.776293Z",
     "shell.execute_reply": "2021-03-11T06:59:43.775023Z"
    },
    "papermill": {
     "duration": 3.616777,
     "end_time": "2021-03-11T06:59:43.776512",
     "exception": false,
     "start_time": "2021-03-11T06:59:40.159735",
     "status": "completed"
    },
    "tags": []
   },
   "outputs": [],
   "source": [
    "import numpy as np\n",
    "import pandas as pd\n",
    "import matplotlib.pyplot as plt\n",
    "plt.style.use('bmh')\n",
    "import os\n",
    "import cv2\n",
    "import torch\n",
    "import torch.nn as nn\n",
    "import torch.optim as optim\n",
    "from torch.utils.data import Dataset, DataLoader\n",
    "from torchvision import models\n",
    "import albumentations as A\n",
    "from albumentations.pytorch import ToTensorV2"
   ]
  },
  {
   "cell_type": "code",
   "execution_count": 2,
   "metadata": {
    "execution": {
     "iopub.execute_input": "2021-03-11T06:59:43.799438Z",
     "iopub.status.busy": "2021-03-11T06:59:43.797486Z",
     "iopub.status.idle": "2021-03-11T06:59:43.800051Z",
     "shell.execute_reply": "2021-03-11T06:59:43.800463Z"
    },
    "papermill": {
     "duration": 0.015085,
     "end_time": "2021-03-11T06:59:43.800590",
     "exception": false,
     "start_time": "2021-03-11T06:59:43.785505",
     "status": "completed"
    },
    "tags": []
   },
   "outputs": [],
   "source": [
    "OUTPUT_DIR = './'\n",
    "image_size = 256\n",
    "batch_size = 32"
   ]
  },
  {
   "cell_type": "code",
   "execution_count": 3,
   "metadata": {
    "execution": {
     "iopub.execute_input": "2021-03-11T06:59:44.186272Z",
     "iopub.status.busy": "2021-03-11T06:59:44.185323Z",
     "iopub.status.idle": "2021-03-11T06:59:44.190195Z",
     "shell.execute_reply": "2021-03-11T06:59:44.189772Z"
    },
    "papermill": {
     "duration": 0.381468,
     "end_time": "2021-03-11T06:59:44.190315",
     "exception": false,
     "start_time": "2021-03-11T06:59:43.808847",
     "status": "completed"
    },
    "tags": []
   },
   "outputs": [
    {
     "data": {
      "text/plain": [
       "device(type='cuda', index=0)"
      ]
     },
     "execution_count": 3,
     "metadata": {},
     "output_type": "execute_result"
    }
   ],
   "source": [
    "device = torch.device('cuda:0' if torch.cuda.is_available() else 'cpu')\n",
    "device"
   ]
  },
  {
   "cell_type": "markdown",
   "metadata": {
    "papermill": {
     "duration": 0.008357,
     "end_time": "2021-03-11T06:59:44.207700",
     "exception": false,
     "start_time": "2021-03-11T06:59:44.199343",
     "status": "completed"
    },
    "tags": []
   },
   "source": [
    "### Load Model"
   ]
  },
  {
   "cell_type": "code",
   "execution_count": 4,
   "metadata": {
    "execution": {
     "iopub.execute_input": "2021-03-11T06:59:44.228438Z",
     "iopub.status.busy": "2021-03-11T06:59:44.227915Z",
     "iopub.status.idle": "2021-03-11T06:59:48.765785Z",
     "shell.execute_reply": "2021-03-11T06:59:48.765150Z"
    },
    "papermill": {
     "duration": 4.549735,
     "end_time": "2021-03-11T06:59:48.765924",
     "exception": false,
     "start_time": "2021-03-11T06:59:44.216189",
     "status": "completed"
    },
    "tags": []
   },
   "outputs": [],
   "source": [
    "model = torch.load('../input/cassava-balanced-ce-model/sgd_balanced_ce_aug.pt')"
   ]
  },
  {
   "cell_type": "markdown",
   "metadata": {
    "papermill": {
     "duration": 0.008494,
     "end_time": "2021-03-11T06:59:48.783758",
     "exception": false,
     "start_time": "2021-03-11T06:59:48.775264",
     "status": "completed"
    },
    "tags": []
   },
   "source": [
    "### Get Data"
   ]
  },
  {
   "cell_type": "code",
   "execution_count": 5,
   "metadata": {
    "execution": {
     "iopub.execute_input": "2021-03-11T06:59:48.809151Z",
     "iopub.status.busy": "2021-03-11T06:59:48.807481Z",
     "iopub.status.idle": "2021-03-11T06:59:48.809803Z",
     "shell.execute_reply": "2021-03-11T06:59:48.810197Z"
    },
    "papermill": {
     "duration": 0.017812,
     "end_time": "2021-03-11T06:59:48.810314",
     "exception": false,
     "start_time": "2021-03-11T06:59:48.792502",
     "status": "completed"
    },
    "tags": []
   },
   "outputs": [],
   "source": [
    "class CassavaDataset(Dataset):\n",
    "    def __init__(self, data_dir, ids, labels, transform=None):\n",
    "        self.data_dir = data_dir\n",
    "        self.ids = ids\n",
    "        self.labels = labels\n",
    "        self.transform = transform\n",
    "        \n",
    "    def __len__(self):\n",
    "        return len(self.ids)\n",
    "    \n",
    "    def __getitem__(self, idx):\n",
    "        image = cv2.imread(os.path.join(self.data_dir, self.ids[idx]))\n",
    "        image = cv2.cvtColor(image, cv2.COLOR_BGR2RGB)\n",
    "        \n",
    "        if self.transform:\n",
    "            image = self.transform(image=image)['image']\n",
    "        \n",
    "        label = self.labels[idx]    \n",
    "        \n",
    "        return (image, label)"
   ]
  },
  {
   "cell_type": "code",
   "execution_count": 6,
   "metadata": {
    "execution": {
     "iopub.execute_input": "2021-03-11T06:59:48.834990Z",
     "iopub.status.busy": "2021-03-11T06:59:48.833229Z",
     "iopub.status.idle": "2021-03-11T06:59:48.835590Z",
     "shell.execute_reply": "2021-03-11T06:59:48.835986Z"
    },
    "papermill": {
     "duration": 0.017178,
     "end_time": "2021-03-11T06:59:48.836107",
     "exception": false,
     "start_time": "2021-03-11T06:59:48.818929",
     "status": "completed"
    },
    "tags": []
   },
   "outputs": [],
   "source": [
    "transform = A.Compose([\n",
    "    A.RandomResizedCrop(image_size, image_size),\n",
    "    A.HorizontalFlip(p=0.5),\n",
    "    A.VerticalFlip(p=0.25),\n",
    "    A.Transpose(p=0.25),\n",
    "    A.RandomBrightnessContrast(\n",
    "                brightness_limit=(-0.1,0.1), \n",
    "                contrast_limit=(-0.1, 0.1), \n",
    "                p=0.5),\n",
    "    A.Normalize(\n",
    "                mean=[0.485, 0.456, 0.406], \n",
    "                std=[0.229, 0.224, 0.225], \n",
    "                max_pixel_value=255.0, \n",
    "                p=1.0),\n",
    "    ToTensorV2(p=1.0)\n",
    "])"
   ]
  },
  {
   "cell_type": "code",
   "execution_count": 7,
   "metadata": {
    "execution": {
     "iopub.execute_input": "2021-03-11T06:59:48.859010Z",
     "iopub.status.busy": "2021-03-11T06:59:48.858522Z",
     "iopub.status.idle": "2021-03-11T06:59:48.880286Z",
     "shell.execute_reply": "2021-03-11T06:59:48.879507Z"
    },
    "papermill": {
     "duration": 0.035559,
     "end_time": "2021-03-11T06:59:48.880408",
     "exception": false,
     "start_time": "2021-03-11T06:59:48.844849",
     "status": "completed"
    },
    "tags": []
   },
   "outputs": [
    {
     "data": {
      "text/html": [
       "<div>\n",
       "<style scoped>\n",
       "    .dataframe tbody tr th:only-of-type {\n",
       "        vertical-align: middle;\n",
       "    }\n",
       "\n",
       "    .dataframe tbody tr th {\n",
       "        vertical-align: top;\n",
       "    }\n",
       "\n",
       "    .dataframe thead th {\n",
       "        text-align: right;\n",
       "    }\n",
       "</style>\n",
       "<table border=\"1\" class=\"dataframe\">\n",
       "  <thead>\n",
       "    <tr style=\"text-align: right;\">\n",
       "      <th></th>\n",
       "      <th>image_id</th>\n",
       "      <th>label</th>\n",
       "    </tr>\n",
       "  </thead>\n",
       "  <tbody>\n",
       "    <tr>\n",
       "      <th>0</th>\n",
       "      <td>2216849948.jpg</td>\n",
       "      <td>4</td>\n",
       "    </tr>\n",
       "  </tbody>\n",
       "</table>\n",
       "</div>"
      ],
      "text/plain": [
       "         image_id  label\n",
       "0  2216849948.jpg      4"
      ]
     },
     "execution_count": 7,
     "metadata": {},
     "output_type": "execute_result"
    }
   ],
   "source": [
    "test_df = pd.read_csv('../input/cassava-leaf-disease-classification/sample_submission.csv')\n",
    "test_dir = '../input/cassava-leaf-disease-classification/test_images'\n",
    "ids = test_df['image_id'].values\n",
    "labels = test_df['label'].values\n",
    "test_df"
   ]
  },
  {
   "cell_type": "code",
   "execution_count": 8,
   "metadata": {
    "execution": {
     "iopub.execute_input": "2021-03-11T06:59:48.904275Z",
     "iopub.status.busy": "2021-03-11T06:59:48.903157Z",
     "iopub.status.idle": "2021-03-11T06:59:48.905687Z",
     "shell.execute_reply": "2021-03-11T06:59:48.906060Z"
    },
    "papermill": {
     "duration": 0.016153,
     "end_time": "2021-03-11T06:59:48.906178",
     "exception": false,
     "start_time": "2021-03-11T06:59:48.890025",
     "status": "completed"
    },
    "tags": []
   },
   "outputs": [],
   "source": [
    "test_dataset = CassavaDataset(test_dir, ids, labels, transform=transform)\n",
    "test_loader = DataLoader(dataset=test_dataset, batch_size=batch_size, shuffle=False)"
   ]
  },
  {
   "cell_type": "markdown",
   "metadata": {
    "papermill": {
     "duration": 0.009179,
     "end_time": "2021-03-11T06:59:48.924671",
     "exception": false,
     "start_time": "2021-03-11T06:59:48.915492",
     "status": "completed"
    },
    "tags": []
   },
   "source": [
    "### Inference with TTA"
   ]
  },
  {
   "cell_type": "code",
   "execution_count": 9,
   "metadata": {
    "execution": {
     "iopub.execute_input": "2021-03-11T06:59:48.949390Z",
     "iopub.status.busy": "2021-03-11T06:59:48.947704Z",
     "iopub.status.idle": "2021-03-11T06:59:48.950041Z",
     "shell.execute_reply": "2021-03-11T06:59:48.950445Z"
    },
    "papermill": {
     "duration": 0.016523,
     "end_time": "2021-03-11T06:59:48.950560",
     "exception": false,
     "start_time": "2021-03-11T06:59:48.934037",
     "status": "completed"
    },
    "tags": []
   },
   "outputs": [],
   "source": [
    "softmax = nn.Softmax(dim = 1)"
   ]
  },
  {
   "cell_type": "code",
   "execution_count": 10,
   "metadata": {
    "execution": {
     "iopub.execute_input": "2021-03-11T06:59:48.978581Z",
     "iopub.status.busy": "2021-03-11T06:59:48.977962Z",
     "iopub.status.idle": "2021-03-11T06:59:49.825338Z",
     "shell.execute_reply": "2021-03-11T06:59:49.824441Z"
    },
    "papermill": {
     "duration": 0.865396,
     "end_time": "2021-03-11T06:59:49.825504",
     "exception": false,
     "start_time": "2021-03-11T06:59:48.960108",
     "status": "completed"
    },
    "tags": []
   },
   "outputs": [],
   "source": [
    "num_inferences = 10\n",
    "inferences = []\n",
    "\n",
    "for i in range(num_inferences): \n",
    "    inf = []\n",
    "    model.eval()\n",
    "    with torch.no_grad(): \n",
    "        for data in test_loader:\n",
    "            inputs, labels = data\n",
    "            inputs = inputs.to(device)\n",
    "            outputs = softmax(model(inputs))\n",
    "            outputs = outputs.cpu().numpy()\n",
    "            inf += list(outputs)\n",
    "    inferences.append(np.array(inf))"
   ]
  },
  {
   "cell_type": "code",
   "execution_count": 11,
   "metadata": {
    "execution": {
     "iopub.execute_input": "2021-03-11T06:59:49.851305Z",
     "iopub.status.busy": "2021-03-11T06:59:49.849691Z",
     "iopub.status.idle": "2021-03-11T06:59:49.851914Z",
     "shell.execute_reply": "2021-03-11T06:59:49.852309Z"
    },
    "papermill": {
     "duration": 0.017001,
     "end_time": "2021-03-11T06:59:49.852468",
     "exception": false,
     "start_time": "2021-03-11T06:59:49.835467",
     "status": "completed"
    },
    "tags": []
   },
   "outputs": [],
   "source": [
    "preds = np.zeros((inferences[0].shape))\n",
    "for inf in inferences:\n",
    "    preds += inf\n",
    "preds = preds / num_inferences\n",
    "preds = list(np.argmax(preds, axis=1))"
   ]
  },
  {
   "cell_type": "code",
   "execution_count": 12,
   "metadata": {
    "execution": {
     "iopub.execute_input": "2021-03-11T06:59:49.875770Z",
     "iopub.status.busy": "2021-03-11T06:59:49.875237Z",
     "iopub.status.idle": "2021-03-11T06:59:50.097078Z",
     "shell.execute_reply": "2021-03-11T06:59:50.096488Z"
    },
    "papermill": {
     "duration": 0.235066,
     "end_time": "2021-03-11T06:59:50.097215",
     "exception": false,
     "start_time": "2021-03-11T06:59:49.862149",
     "status": "completed"
    },
    "tags": []
   },
   "outputs": [],
   "source": [
    "test_df['label'] = preds\n",
    "test_df.to_csv(OUTPUT_DIR+'submission.csv', index=False)"
   ]
  },
  {
   "cell_type": "code",
   "execution_count": 13,
   "metadata": {
    "execution": {
     "iopub.execute_input": "2021-03-11T06:59:50.128253Z",
     "iopub.status.busy": "2021-03-11T06:59:50.127517Z",
     "iopub.status.idle": "2021-03-11T06:59:50.130849Z",
     "shell.execute_reply": "2021-03-11T06:59:50.131239Z"
    },
    "papermill": {
     "duration": 0.024077,
     "end_time": "2021-03-11T06:59:50.131375",
     "exception": false,
     "start_time": "2021-03-11T06:59:50.107298",
     "status": "completed"
    },
    "tags": []
   },
   "outputs": [
    {
     "data": {
      "text/html": [
       "<div>\n",
       "<style scoped>\n",
       "    .dataframe tbody tr th:only-of-type {\n",
       "        vertical-align: middle;\n",
       "    }\n",
       "\n",
       "    .dataframe tbody tr th {\n",
       "        vertical-align: top;\n",
       "    }\n",
       "\n",
       "    .dataframe thead th {\n",
       "        text-align: right;\n",
       "    }\n",
       "</style>\n",
       "<table border=\"1\" class=\"dataframe\">\n",
       "  <thead>\n",
       "    <tr style=\"text-align: right;\">\n",
       "      <th></th>\n",
       "      <th>image_id</th>\n",
       "      <th>label</th>\n",
       "    </tr>\n",
       "  </thead>\n",
       "  <tbody>\n",
       "    <tr>\n",
       "      <th>0</th>\n",
       "      <td>2216849948.jpg</td>\n",
       "      <td>4</td>\n",
       "    </tr>\n",
       "  </tbody>\n",
       "</table>\n",
       "</div>"
      ],
      "text/plain": [
       "         image_id  label\n",
       "0  2216849948.jpg      4"
      ]
     },
     "execution_count": 13,
     "metadata": {},
     "output_type": "execute_result"
    }
   ],
   "source": [
    "pd.read_csv(OUTPUT_DIR+'submission.csv')"
   ]
  }
 ],
 "metadata": {
  "kernelspec": {
   "display_name": "Python 3",
   "language": "python",
   "name": "python3"
  },
  "language_info": {
   "codemirror_mode": {
    "name": "ipython",
    "version": 3
   },
   "file_extension": ".py",
   "mimetype": "text/x-python",
   "name": "python",
   "nbconvert_exporter": "python",
   "pygments_lexer": "ipython3",
   "version": "3.7.9"
  },
  "papermill": {
   "default_parameters": {},
   "duration": 16.699586,
   "end_time": "2021-03-11T06:59:51.889992",
   "environment_variables": {},
   "exception": null,
   "input_path": "__notebook__.ipynb",
   "output_path": "__notebook__.ipynb",
   "parameters": {},
   "start_time": "2021-03-11T06:59:35.190406",
   "version": "2.2.2"
  }
 },
 "nbformat": 4,
 "nbformat_minor": 4
}
